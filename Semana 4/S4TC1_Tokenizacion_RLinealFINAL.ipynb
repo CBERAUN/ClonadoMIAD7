{
 "cells": [
  {
   "cell_type": "markdown",
   "metadata": {},
   "source": [
    "![image info](https://raw.githubusercontent.com/albahnsen/MIAD_ML_and_NLP/main/images/banner_1.png)"
   ]
  },
  {
   "cell_type": "markdown",
   "metadata": {},
   "source": [
    "# Taller: Tokenización de textos  \n",
    "\n",
    "En este taller podrán poner en práctica sus conocimientos sobre preprocesamiento de texto (tokenización). El taller está constituido por 5 puntos, en los cuales deberan seguir las intrucciones de cada numeral para su desarrollo."
   ]
  },
  {
   "cell_type": "markdown",
   "metadata": {},
   "source": [
    "## Datos detección de toxicidad en comentarios\n",
    "\n",
    "En este taller se usará el conjunto de datos de detección de toxicidad en comentarios de la base de datos de Kaggle. Cada observación es un comentario que tiene como variable objetivo (target) la probabilidad de ser un comentario tóxico. El objetivo es predecir la toxicidad de cada comentario. Para más detalles pueden visitar el siguiente enlace: [datos](https://www.kaggle.com/c/jigsaw-unintended-bias-in-toxicity-classification/data)."
   ]
  },
  {
   "cell_type": "code",
   "execution_count": 1,
   "metadata": {},
   "outputs": [],
   "source": [
    "import warnings\n",
    "warnings.filterwarnings('ignore')"
   ]
  },
  {
   "cell_type": "code",
   "execution_count": 2,
   "metadata": {},
   "outputs": [],
   "source": [
    "# Importación librerías\n",
    "import pandas as pd\n",
    "import numpy as np\n",
    "import scipy as sp\n",
    "from sklearn.linear_model import LinearRegression\n",
    "from sklearn.metrics import mean_squared_error\n",
    "from sklearn.model_selection import train_test_split, cross_val_score\n",
    "from sklearn.feature_extraction.text import CountVectorizer, TfidfVectorizer\n",
    "from sklearn import metrics\n",
    "%matplotlib inline"
   ]
  },
  {
   "cell_type": "code",
   "execution_count": 3,
   "metadata": {},
   "outputs": [
    {
     "data": {
      "text/html": [
       "<div>\n",
       "<style scoped>\n",
       "    .dataframe tbody tr th:only-of-type {\n",
       "        vertical-align: middle;\n",
       "    }\n",
       "\n",
       "    .dataframe tbody tr th {\n",
       "        vertical-align: top;\n",
       "    }\n",
       "\n",
       "    .dataframe thead th {\n",
       "        text-align: right;\n",
       "    }\n",
       "</style>\n",
       "<table border=\"1\" class=\"dataframe\">\n",
       "  <thead>\n",
       "    <tr style=\"text-align: right;\">\n",
       "      <th></th>\n",
       "      <th>id</th>\n",
       "      <th>comment_text</th>\n",
       "      <th>target</th>\n",
       "    </tr>\n",
       "  </thead>\n",
       "  <tbody>\n",
       "    <tr>\n",
       "      <th>0</th>\n",
       "      <td>6101457</td>\n",
       "      <td>What are you talking about? What group do Pete...</td>\n",
       "      <td>0.0</td>\n",
       "    </tr>\n",
       "    <tr>\n",
       "      <th>1</th>\n",
       "      <td>5342103</td>\n",
       "      <td>NO!, Let him, we need a Conservative government.</td>\n",
       "      <td>0.0</td>\n",
       "    </tr>\n",
       "    <tr>\n",
       "      <th>2</th>\n",
       "      <td>743361</td>\n",
       "      <td>Perhaps he took the \"power out of the Cardinal...</td>\n",
       "      <td>0.2</td>\n",
       "    </tr>\n",
       "    <tr>\n",
       "      <th>3</th>\n",
       "      <td>551008</td>\n",
       "      <td>As always, yours is dripping with sarcasm, whi...</td>\n",
       "      <td>0.0</td>\n",
       "    </tr>\n",
       "    <tr>\n",
       "      <th>4</th>\n",
       "      <td>865998</td>\n",
       "      <td>The dirty little secret is that the price rang...</td>\n",
       "      <td>0.3</td>\n",
       "    </tr>\n",
       "  </tbody>\n",
       "</table>\n",
       "</div>"
      ],
      "text/plain": [
       "        id                                       comment_text  target\n",
       "0  6101457  What are you talking about? What group do Pete...     0.0\n",
       "1  5342103   NO!, Let him, we need a Conservative government.     0.0\n",
       "2   743361  Perhaps he took the \"power out of the Cardinal...     0.2\n",
       "3   551008  As always, yours is dripping with sarcasm, whi...     0.0\n",
       "4   865998  The dirty little secret is that the price rang...     0.3"
      ]
     },
     "execution_count": 3,
     "metadata": {},
     "output_type": "execute_result"
    }
   ],
   "source": [
    "# Carga de datos de archivos .csv\n",
    "df = pd.read_csv('https://raw.githubusercontent.com/albahnsen/MIAD_ML_and_NLP/main/datasets/Toxicity.zip')\n",
    "df = df[['id','comment_text', 'target']]\n",
    "df.head()"
   ]
  },
  {
   "cell_type": "code",
   "execution_count": 4,
   "metadata": {},
   "outputs": [
    {
     "data": {
      "text/plain": [
       "<AxesSubplot:>"
      ]
     },
     "execution_count": 4,
     "metadata": {},
     "output_type": "execute_result"
    },
    {
     "data": {
      "image/png": "[encoded data removed]",
      "text/plain": [
       "<Figure size 640x480 with 1 Axes>"
      ]
     },
     "metadata": {},
     "output_type": "display_data"
    }
   ],
   "source": [
    "# Impresión histograma de variable de interés (y)\n",
    "df.target.hist()"
   ]
  },
  {
   "cell_type": "code",
   "execution_count": 5,
   "metadata": {},
   "outputs": [
    {
     "data": {
      "text/plain": [
       "count    541462.000000\n",
       "mean          0.102991\n",
       "std           0.196979\n",
       "min           0.000000\n",
       "25%           0.000000\n",
       "50%           0.000000\n",
       "75%           0.166667\n",
       "max           1.000000\n",
       "Name: target, dtype: float64"
      ]
     },
     "execution_count": 5,
     "metadata": {},
     "output_type": "execute_result"
    }
   ],
   "source": [
    "# Separación de variable de interés (y)\n",
    "y = df.target\n",
    "y.describe()"
   ]
  },
  {
   "cell_type": "code",
   "execution_count": 6,
   "metadata": {},
   "outputs": [],
   "source": [
    "# Separación de variables predictoras (X), solo se considera el texto de la noticia\n",
    "X = df.comment_text"
   ]
  },
  {
   "cell_type": "code",
   "execution_count": 7,
   "metadata": {},
   "outputs": [],
   "source": [
    "# Separación de datos en set de entrenamiento y test\n",
    "X_train, X_test, y_train, y_test = train_test_split(X, y, test_size=0.33, random_state=42)"
   ]
  },
  {
   "cell_type": "markdown",
   "metadata": {},
   "source": [
    "## Punto 1 - Tokenización con CountVectorizer\n",
    "\n",
    "En la celda 1 creen y entrenen el modelo de regresión de su preferencia, para que prediga la probabilidad de que un comentario sea tóxico, usando los set de entrenamiento y test definidos anteriormente. Usen la función **CountVectorizer** para preprocesar los comentarios y presenten el desempeño del modelo con la métrica del MSE.\n",
    "\n",
    "Recuerden que el preprocesamiento que se haga sobre los datos de entrenamiento  (*.fit_transform()*) deben ser aplicado al set de test (*.transform()*)."
   ]
  },
  {
   "cell_type": "code",
   "execution_count": 9,
   "metadata": {},
   "outputs": [
    {
     "name": "stdout",
     "output_type": "stream",
     "text": [
      "0.0372181566739963\n"
     ]
    }
   ],
   "source": [
    "vectorizer = CountVectorizer()\n",
    "X_train_transformed = vectorizer.fit_transform(X_train)\n",
    "X_test_transformed = vectorizer.transform(X_test)\n",
    "model = LinearRegression()\n",
    "model.fit(X_train_transformed, y_train)\n",
    "\n",
    "y_pred = model.predict(X_test_transformed)\n",
    "mse = mean_squared_error(y_test, y_pred)\n",
    "mse"
   ]
  },
  {
   "cell_type": "markdown",
   "metadata": {},
   "source": [
    "## Punto 2 - Tokenización con CountVectorizer y trigramas\n",
    "\n",
    "En la celda 2 creen y entrenen el mismo modelo de regresión del punto anterior (es decir si usaron un RandomForestRegresor usen nuevamente ese regresor), para que prediga la probabilidad de que un comentario sea tóxico, usando los set de entrenamiento y test definidos anteriormente. Usen la función CountVectorizer **considerando trigramas** para preprocesar los comentarios y presenten el desempeño del modelo con la métrica del MSE.\n",
    "\n",
    "Recuerden que el preprocesamiento que se haga sobre los datos de entrenamiento  (*.fit_transform()*) deben ser aplicado al set de test (*.transform()*)."
   ]
  },
  {
   "cell_type": "code",
   "execution_count": 10,
   "metadata": {},
   "outputs": [
    {
     "data": {
      "text/plain": [
       "0.03980322453445695"
      ]
     },
     "execution_count": 10,
     "metadata": {},
     "output_type": "execute_result"
    }
   ],
   "source": [
    "vectorizer_trigram = CountVectorizer(ngram_range=(3, 3))\n",
    "X_train_transformed_trigram = vectorizer_trigram.fit_transform(X_train)\n",
    "X_test_transformed_trigram = vectorizer_trigram.transform(X_test)\n",
    "\n",
    "model_trigram = LinearRegression()\n",
    "model_trigram.fit(X_train_transformed_trigram, y_train)\n",
    "\n",
    "y_pred_trigram = model_trigram.predict(X_test_transformed_trigram)\n",
    "mse_trigram = mean_squared_error(y_test, y_pred_trigram)\n",
    "\n",
    "mse_trigram"
   ]
  },
  {
   "cell_type": "markdown",
   "metadata": {},
   "source": [
    "## Punto 3 - TfidfVectorizer\n",
    "\n",
    "Investigen sobre la función TfidfVectorizer. En la celda de texto 3, expliquen en qué consiste esta técnica de tokenización (describanla y expliquen su funcionamiento) y cúales son las ventajas o deventajas de su uso al compararlo con la función CountVectorizer."
   ]
  },
  {
   "cell_type": "markdown",
   "metadata": {},
   "source": [
    "### <font color='blue'> Descripción de TF-IDF (TfidfVectorizer)\n",
    "TF-IDF es una abreviatura de Term Frequency Inverse Document Frequency. Este es un algoritmo que ayuda a transformar texto en una representación significativa de números que se utilizan para ajustar el algoritmo de machine learning para realizar predicciones. Asimismo,TfidfVectorizer es una librería de la biblioteca de Python (Scikit-learn) que se utiliza para convertir una colección de documentos de texto en una matriz de características TF-IDF.\n",
    "    \n",
    "De lo que pudimos investigar, tenemos dos conceptos muy importantes:\n",
    "\n",
    "##### <font color='blue'>TF (Frecuencia de Término)\n",
    "Indica cuántas veces se menciona una palabra específica dentro de un texto dado. Para ajustar el impacto de la longitud del documento, este conteo se ajusta dividiendo entre el total de palabras presentes en el documento. De esta manera, se asegura que textos más extensos no dominen el análisis solo por su mayor cantidad de palabras.\n",
    "\n",
    "##### <font color='blue'> IDF (Frecuencia Inversa del Documento): \n",
    "Evalúa la relevancia general de una palabra a lo largo de todos los documentos disponibles. Se determina utilizando el logaritmo de la división entre el número total de documentos y la cantidad de documentos que incluyen el término en cuestión. Este cálculo permite valorar más a las palabras que aparecen con menor frecuencia en el conjunto total de textos, reduciendo la influencia de términos comunes como \"y\", \"el\", entre otros.\n",
    "\n",
    "##### <font color='blue'> Funcionamiento \n",
    "<font color='blue'>$$\n",
    "\\text{TF-IDF}(t, d, D) = \\text{TF}(t, d) \\times \\text{IDF}(t, D)\n",
    "$$\n",
    "\n",
    "\n",
    "Esta fórmula resulta en pesos más altos para términos que son únicos para un documento en particular, mientras que los términos comunes a muchos o todos los documentos reciben pesos más bajos. Estos pesos se utilizan luego para transformar el texto en un formato numérico que los modelos de aprendizaje automático pueden procesar eficientemente.\n",
    "    \n",
    "Entonces, primero se realiza la tokenización (se divide el texto en unidades básicas) eliminando signos de puntuación u otros elementos o espacios innecesarios; luego se hace un cálculo del la frecuencia de cada palabra en el texto (TF), se evalúa qué tan común o rara es dicha palabra (IDF), se multiplican ambos para obtener el peso TF-IDF.\n",
    "   \n",
    "##### <font color='blue'> Ventajas \n",
    "**<font color='blue'>1. Relevancia de Palabras:**  Destaca palabras importantes que son específicas de un documento en lugar de palabras comunes en todo texto.<br>\n",
    "**<font color='blue'>2. Mejora de la precisión del modelo:** Al dar más importancia a términos distintivos, puede mejorar la precisión de los modelos de clasificación de textos y sistemas de recuperación de información.<br>\n",
    "**<font color='blue'>3. Escalabilidad:** Es eficiente en el manejo de grandes volúmenes de texto.\n",
    "##### <font color='blue'> Desventajas\n",
    "\n",
    "**<font color='blue'>1. Falta de contexto y Semántica:**  No hace uso de similitudes semánticas entre palabras (por ejemplo, \"no es radical\" y \"es radical\" parecerían similares).  \n",
    "**<font color='blue'>2. Tiempo en procesamiento**. Dado que calcula la similitud de documentos directamente en el espacio de recuento de palabras, \n",
    "    \n",
    "    \n",
    "    \n",
    "###### <font color='blue'>Fuentes Consultadas:\n",
    "1. https://medium.com/@cmukesh8688/tf-idf-vectorizer-scikit-learn-dbc0244a911a (TF-IDF Vectorizador scikit-learn / Autor:   Mukesh Chaudhary - Año: 2020)\n",
    "2. https://scikit-learn.org/stable/modules/generated/sklearn.feature_extraction.text.TfidfVectorizer.html (Biblioteca y documentación de TfidfVectorizer) \n",
    "3. https://medium.com/@shandeep92/countvectorizer-vs-tfidfvectorizer-cf62d0a54fa4 (CountVectorizer vs TfidfVectorizer /Autor: \n",
    "Shandeep Singh)\n"
   ]
  },
  {
   "cell_type": "markdown",
   "metadata": {},
   "source": [
    "## Punto 4 - Tokenización con TfidfVectorizer\n",
    "\n",
    "En la celda 4 creen y entrenen el mismo modelo de regresión del primer punto, para que prediga la probabilidad de que un comentario sea tóxico, usando los set de entrenamiento y test definidos anteriormente. Procesen los comentarios con la función **TfidfVectorizer** y presenten el desempeño del modelo con la métrica del MSE.\n",
    "\n",
    "Recuerden que el preprocesamiento que se haga sobre los datos de entrenamiento  (*.fit_transform()*) deben ser aplicado al set de test (*.transform()*)."
   ]
  },
  {
   "cell_type": "code",
   "execution_count": 11,
   "metadata": {},
   "outputs": [
    {
     "data": {
      "text/plain": [
       "0.02800630870893227"
      ]
     },
     "execution_count": 11,
     "metadata": {},
     "output_type": "execute_result"
    }
   ],
   "source": [
    "vectorizer_tfidf = TfidfVectorizer()\n",
    "X_train_transformed_tfidf = vectorizer_tfidf.fit_transform(X_train)\n",
    "X_test_transformed_tfidf = vectorizer_tfidf.transform(X_test)\n",
    "\n",
    "model_tfidf = LinearRegression()\n",
    "model_tfidf.fit(X_train_transformed_tfidf, y_train)\n",
    "\n",
    "y_pred_tfidf = model_tfidf.predict(X_test_transformed_tfidf)\n",
    "mse_tfidf = mean_squared_error(y_test, y_pred_tfidf)\n",
    "\n",
    "mse_tfidf"
   ]
  },
  {
   "cell_type": "markdown",
   "metadata": {},
   "source": [
    "## Punto 5 - Comparación y análisis de resultados\n",
    "\n",
    "En la celda 5 comparen los resultados obtenidos de los diferentes modelos y comenten cómo el preprocesamiento de texto afecta el desempeño."
   ]
  },
  {
   "cell_type": "code",
   "execution_count": 2,
   "metadata": {},
   "outputs": [
    {
     "data": {
      "image/png": "[encoded data removed]",
      "text/plain": [
       "<Figure size 800x500 with 1 Axes>"
      ]
     },
     "metadata": {},
     "output_type": "display_data"
    }
   ],
   "source": [
    "import matplotlib.pyplot as plt\n",
    "### Para no volver a ejecutar el código por el tiempo de procesamiento.\n",
    "mse=0.0372181566739963\n",
    "mse_trigram = 0.03980322453445695\n",
    "mse_tfidf=0.02800630870893227\n",
    "modelos = ['CountVectorizer', 'Trigram', 'TF-IDF']\n",
    "mse_modelos = [mse, mse_trigram, mse_tfidf]\n",
    "colors = ['darkblue', 'darkblue', 'blue']\n",
    "\n",
    "plt.figure(figsize=(8, 5))\n",
    "bars = plt.bar(modelos, mse_modelos, color=colors)\n",
    "\n",
    "for bar in bars:\n",
    "    yval = bar.get_height()\n",
    "    plt.text(bar.get_x() + bar.get_width()/2, yval, round(yval, 4), va='bottom')  # va: vertical alignment\n",
    "\n",
    "plt.title('Comparativo de la métrica MSE de los 3 modelos de Vectorización aplicados')\n",
    "plt.xlabel('Modelo')\n",
    "plt.ylabel('Mean Squared Error (MSE)')\n",
    "plt.show()\n"
   ]
  },
  {
   "cell_type": "markdown",
   "metadata": {},
   "source": [
    "### <font color='blue'>Los valores de MSE son:\n",
    "\n",
    "1. CountVectorizer: 0.0372\n",
    "2. Trigramas con CountVectorizer: 0.0398\n",
    "3. TF-IDF: 0.0280 (mejor)\n",
    "\n",
    "\n",
    "### <font color='blue'>Comentarios sobre el desempeño de cada modelo:\n",
    "**<font color='blue'>CountVectorizer (Básico):** Este método convierte texto en un formato numérico mediante la creación de una matriz donde cada columna representa una palabra en el vocabulario y cada fila representa un documento o comentario, con valores que reflejan la frecuencia de cada palabra en el documento. Un MSE de 0.0372 indica un desempeño mejor que el de Trigram.<br><br>\n",
    "**<font color='blue'>Trigramas con CountVectorizer:** Al emplear trigramas, intentamos capturar más contexto al considerar secuencias de tres palabras como una sola unidad. Esto pudo haber sido más útil para capturar frases comunes o patrones específicos en datos textuales. Sin embargo, usarlo genera una alta dimensionalidad y posiblemente a una dispersión mayor en los datos, lo que podría por qué el MSE alcanzó el nivel de 0.0398. <br><br>\n",
    "**<font color='blue'>TF-IDF (TfidfVectorizer):** El MSE más bajo de 0.0280 sugiere que esta técnica fue más efectiva para predecir la toxicidad, probablemente porque destaca términos únicos y relevantes que son indicativos de comentarios tóxicos."
   ]
  },
  {
   "cell_type": "code",
   "execution_count": null,
   "metadata": {},
   "outputs": [],
   "source": []
  }
 ],
 "metadata": {
  "kernelspec": {
   "display_name": "Python 3 (ipykernel)",
   "language": "python",
   "name": "python3"
  },
  "language_info": {
   "codemirror_mode": {
    "name": "ipython",
    "version": 3
   },
   "file_extension": ".py",
   "mimetype": "text/x-python",
   "name": "python",
   "nbconvert_exporter": "python",
   "pygments_lexer": "ipython3",
   "version": "3.9.13"
  },
  "name": "_merged"
 },
 "nbformat": 4,
 "nbformat_minor": 4
}
